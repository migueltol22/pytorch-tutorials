{
 "cells": [
  {
   "cell_type": "markdown",
   "metadata": {},
   "source": [
    "### Affine Maps\n",
    "\n",
    "a function f(x) where f(x) = Ax + b for matrix A and vectors x,b."
   ]
  },
  {
   "cell_type": "code",
   "execution_count": 1,
   "metadata": {},
   "outputs": [
    {
     "data": {
      "text/plain": [
       "<torch._C.Generator at 0x7fda47ab0490>"
      ]
     },
     "execution_count": 1,
     "metadata": {},
     "output_type": "execute_result"
    }
   ],
   "source": [
    "import torch\n",
    "import torch.nn as nn\n",
    "import torch.nn.functional as F\n",
    "import torch.optim as optim\n",
    "\n",
    "torch.manual_seed(1)"
   ]
  },
  {
   "cell_type": "code",
   "execution_count": 7,
   "metadata": {},
   "outputs": [
    {
     "name": "stdout",
     "output_type": "stream",
     "text": [
      "tensor([[ 0.3133, -1.1352,  0.3773, -0.2824, -2.5667],\n",
      "        [-1.4303,  0.5009,  0.5438, -0.4057,  1.1341]])\n"
     ]
    }
   ],
   "source": [
    "lin = nn.Linear(5, 3)\n",
    "data = torch.randn(2, 5)\n",
    "print(data)"
   ]
  },
  {
   "cell_type": "code",
   "execution_count": 8,
   "metadata": {},
   "outputs": [
    {
     "name": "stdout",
     "output_type": "stream",
     "text": [
      "tensor([[ 0.7629, -0.9630,  0.0438],\n",
      "        [ 0.2494,  0.6150,  1.1286]])\n"
     ]
    }
   ],
   "source": [
    "print(lin(data))"
   ]
  },
  {
   "cell_type": "markdown",
   "metadata": {},
   "source": [
    "### Non Linearities\n",
    "#### Most common ones:\n",
    "    * tanh(x)\n",
    "    * sigmoid(x)\n",
    "    * ReLU(x)"
   ]
  },
  {
   "cell_type": "code",
   "execution_count": 12,
   "metadata": {},
   "outputs": [
    {
     "name": "stdout",
     "output_type": "stream",
     "text": [
      "tensor([[ 0.0939,  1.2381],\n",
      "        [-1.3459,  0.5119]])\n",
      "tensor([[ 0.0939,  1.2381],\n",
      "        [ 0.0000,  0.5119]])\n"
     ]
    }
   ],
   "source": [
    "data = torch.randn(2, 2)\n",
    "print(data)\n",
    "print(F.relu(data))"
   ]
  },
  {
   "cell_type": "markdown",
   "metadata": {},
   "source": [
    "### Logistic Regression Bag-of-Words classifier"
   ]
  },
  {
   "cell_type": "code",
   "execution_count": 15,
   "metadata": {},
   "outputs": [
    {
     "name": "stdout",
     "output_type": "stream",
     "text": [
      "{'gano': 0, 'el': 1, 'mundial': 2, 'francia': 3, 'give': 4, 'me': 5, 'the': 6, 'ball': 7, 'no': 8, 'creo': 9, 'que': 10, 'sea': 11, 'una': 12, 'buena': 13, 'idea': 14, 'No': 15, 'it': 16, 'is': 17, 'not': 18, 'a': 19, 'good': 20, 'to': 21, 'get': 22, 'lost': 23, 'at': 24, 'Yo': 25, 'si': 26, 'I': 27, 'sure': 28, 'hope': 29, 'so': 30}\n",
      "Parameter containing:\n",
      "tensor([[-0.0208, -0.0062, -0.1695, -0.1156, -0.1049, -0.0768,  0.1277,\n",
      "         -0.0587, -0.1342,  0.0691,  0.0575,  0.1163, -0.0929,  0.0389,\n",
      "         -0.0654, -0.0404, -0.1431, -0.0819, -0.0550,  0.0768,  0.0328,\n",
      "          0.0444,  0.1793,  0.1750,  0.1225,  0.0057, -0.1242,  0.1404,\n",
      "         -0.0449, -0.0145, -0.1547],\n",
      "        [-0.0355, -0.1158,  0.1650, -0.1553, -0.1400, -0.0061, -0.0971,\n",
      "          0.0643, -0.0691, -0.0844,  0.0102,  0.1300, -0.1263,  0.0843,\n",
      "          0.1154,  0.1757, -0.1257,  0.0435, -0.1328,  0.1533, -0.0697,\n",
      "          0.1082,  0.0053, -0.0140, -0.0057,  0.0305,  0.0847,  0.0288,\n",
      "          0.0548, -0.1616,  0.1308]])\n",
      "Parameter containing:\n",
      "tensor([ 0.1566,  0.1485])\n",
      "tensor([[-0.7776, -0.6153]])\n"
     ]
    }
   ],
   "source": [
    "data = [(\"gano el mundial francia\".split(), \"SPANISH\"),\n",
    "        (\"give me the ball\".split(), \"ENGLISH\"),\n",
    "        (\"no creo que sea una buena idea\".split(), \"SPANISH\"),\n",
    "        (\"No it is not a good idea to get lost at sea\".split(), \"ENGLISH\")]\n",
    "\n",
    "test_data = [(\"Yo creo que si\".split(), \"SPANISH\"),\n",
    "             (\"I sure hope so\".split(), \"ENGLISH\")]\n",
    "\n",
    "word_to_idx = {}\n",
    "for sent, _ in data + test_data:\n",
    "    for word in sent:\n",
    "        if word not in word_to_idx:\n",
    "            word_to_idx[word] = len(word_to_idx)\n",
    "print(word_to_idx)\n",
    "\n",
    "VOCAB_SIZE = len(word_to_idx)\n",
    "NUM_LABELS = 2\n",
    "\n",
    "class BoWClassifier(nn.Module):\n",
    "    def __init__(self, num_labels, vocab_size):\n",
    "        super(BoWClassifier, self).__init__()\n",
    "        \n",
    "        self.linear = nn.Linear(vocab_size, num_labels)\n",
    "        \n",
    "    def forward(self, bow_vec):\n",
    "        return F.log_softmax(self.linear(bow_vec), dim=1)\n",
    "\n",
    "def make_bow_vector(sentence, word_to_idx):\n",
    "    vec = torch.zeros(len(word_to_idx))\n",
    "    for word in sentence:\n",
    "        vec[word_to_idx[word]] += 1\n",
    "    return vec.view(1, -1)\n",
    "\n",
    "def make_target(label, label_to_idx):\n",
    "    return torch.LongTensor([label_to_idx[label]])\n",
    "\n",
    "model = BoWClassifier(NUM_LABELS, VOCAB_SIZE)\n",
    "\n",
    "for param in model.parameters():\n",
    "    print(param)\n",
    "    \n",
    "with torch.no_grad():\n",
    "    sample = data[0]\n",
    "    bow_vector = make_bow_vector(sample[0], word_to_idx)\n",
    "    log_probs = model(bow_vector)\n",
    "    print(log_probs)"
   ]
  },
  {
   "cell_type": "code",
   "execution_count": 16,
   "metadata": {},
   "outputs": [
    {
     "name": "stdout",
     "output_type": "stream",
     "text": [
      "tensor([[-0.7056, -0.6808]])\n",
      "tensor([[-0.7542, -0.6356]])\n",
      "tensor(1.00000e-02 *\n",
      "       [ 6.9103, -8.4358])\n",
      "tensor([[-0.1498, -1.9726]])\n",
      "tensor([[-0.6581, -0.7295]])\n",
      "tensor([ 0.4835, -0.4988])\n"
     ]
    }
   ],
   "source": [
    "label_to_idx = {\"SPANISH\": 0, \"ENGLISH\": 1}\n",
    "\n",
    "# run on test data before training to see before and after\n",
    "with torch.no_grad():\n",
    "    for instance, label in test_data:\n",
    "        bow_vec = make_bow_vector(instance, word_to_idx)\n",
    "        log_probs = model(bow_vec)\n",
    "        print(log_probs)\n",
    "        \n",
    "print(next(model.parameters())[:, word_to_idx[\"creo\"]])\n",
    "\n",
    "loss_function = nn.NLLLoss()\n",
    "optimizer = optim.SGD(model.parameters(), lr=0.1)\n",
    "\n",
    "for epoch in range(100):\n",
    "    for instance, label in data:\n",
    "        # clear gradients\n",
    "        model.zero_grad()\n",
    "        \n",
    "        bow_vec = make_bow_vector(instance, word_to_idx)\n",
    "        target = make_target(label, label_to_idx)\n",
    "        \n",
    "        log_probs = model(bow_vec)\n",
    "        \n",
    "        loss = loss_function(log_probs, target)\n",
    "        loss.backward()\n",
    "        optimizer.step()\n",
    "        \n",
    "with torch.no_grad():\n",
    "    for instance, label in test_data:\n",
    "        bow_vec = make_bow_vector(instance, word_to_idx)\n",
    "        log_probs = model(bow_vec)\n",
    "        print(log_probs)\n",
    "        \n",
    "print(next(model.parameters())[:, word_to_idx[\"creo\"]])"
   ]
  },
  {
   "cell_type": "code",
   "execution_count": null,
   "metadata": {},
   "outputs": [],
   "source": []
  }
 ],
 "metadata": {
  "kernelspec": {
   "display_name": "Python [conda env:pt]",
   "language": "python",
   "name": "conda-env-pt-py"
  },
  "language_info": {
   "codemirror_mode": {
    "name": "ipython",
    "version": 3
   },
   "file_extension": ".py",
   "mimetype": "text/x-python",
   "name": "python",
   "nbconvert_exporter": "python",
   "pygments_lexer": "ipython3",
   "version": "3.6.6"
  }
 },
 "nbformat": 4,
 "nbformat_minor": 2
}
